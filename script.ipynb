{
 "cells": [
  {
   "cell_type": "code",
   "execution_count": 9,
   "metadata": {},
   "outputs": [],
   "source": [
    "#Глобальный импорт\n",
    "import re\n",
    "from random import randint\n",
    "import uuid\n",
    "import os\n",
    "from itertools import islice"
   ]
  },
  {
   "cell_type": "code",
   "execution_count": 106,
   "metadata": {},
   "outputs": [],
   "source": [
    "# глобальные переменные\n",
    "n = 1000"
   ]
  },
  {
   "cell_type": "markdown",
   "metadata": {},
   "source": [
    "# Создаем синтетические данные на основе единой строки\n",
    "## предполагаем, что формат строки не меняется"
   ]
  },
  {
   "cell_type": "code",
   "execution_count": 2,
   "metadata": {},
   "outputs": [],
   "source": [
    "# генерируем пять рандомных названий файлов с расширением logs\n",
    "file_names = [str(uuid.uuid4()) + \".logs\" for x in range(5)]"
   ]
  },
  {
   "cell_type": "code",
   "execution_count": 80,
   "metadata": {},
   "outputs": [],
   "source": [
    "# функция генерирует строку\n",
    "def generate_string():\n",
    "    action_id_index = randint(0,10)\n",
    "    action_number = randint(90,101)\n",
    "    user_id_index = randint(0,10)\n",
    "    # uid пользователья(в реальной жизни - это юзер id который нужно отлавить)\n",
    "    user_uid = '\"' + str(uuid.uuid4()) + '\"'\n",
    "    \n",
    "    original_str:str = \"\"\"Oct 29 18:10:43 ds-db27-prod1 journal: Oracle Audit[13491]: LENGTH: \"433\" SESSIONID:[9] \"203830992\" ENTRYID:[1] \"1\" STATEMENT:[1] \"1\" USERID:[14] \"ZABBIX_MONITOR\" USERHOST:[31] \"vm-pr-infra-zabbix01.tcsbank.ru\" ACTION:[{}] \"{}\" RETURNCODE:[1] \"0\" COMMENT$TEXT:[138] \"Authenticated by: DATABASE;AUTHENTICATED IDENTITY: ZABBIX_MONITOR; Client address: (ADDRESS=(PROTOCOL=tcp)(HOST=10.217.12.96)(PORT=42594))\" OS$USERID:[{}] {} DBID:[10] \"1033166545\" PRIV$USED:[1] \"5\" CURRENT_USER:[14] \"ZABBIX_MONITOR\"\"\".format(action_id_index, action_number, user_id_index, user_uid)\n",
    "    original_str\n",
    "    return original_str\n",
    "def get_user_id(lg_str:str):\n",
    "    return re.findall('\"([^\"]*)\"', lg_str.split(\"USERID\")[1].split(\"USERHOST\")[0])[0]\n",
    "def get_os_user_id(lg_str:str):\n",
    "    return re.findall('\"([^\"]*)\"', lg_str.split(\"OS$USERID\")[1].split(\"DBID\")[0])[0]\n",
    "def log_event(lg_str: str):\n",
    "    return re.findall('\"([^\"]*)\"', lg_str.split(\"ACTION\")[1].split(\"RETURNCODE\")[0])[0]\n",
    "def get_sension_id(lg_str: str):\n",
    "    return re.findall('\"([^\"]*)\"', lg_str.split(\"SESSIONID\")[1].split(\"ENTRYID\")[0])[0]"
   ]
  },
  {
   "cell_type": "code",
   "execution_count": 4,
   "metadata": {},
   "outputs": [],
   "source": [
    "# создаем и пишем в файлы синтетику\n",
    "for name_file in file_names:\n",
    "    with open(name_file, \"w\") as f:\n",
    "        for i in range(10000):\n",
    "            f.writelines(generate_string() + \"\\n\")"
   ]
  },
  {
   "cell_type": "markdown",
   "metadata": {},
   "source": [
    "# проверка работы ф-ций"
   ]
  },
  {
   "cell_type": "code",
   "execution_count": 17,
   "metadata": {},
   "outputs": [
    {
     "data": {
      "text/plain": [
       "'Oct 29 18:10:43 ds-db27-prod1 journal: Oracle Audit[13491]: LENGTH: \"433\" SESSIONID:[9] \"203830992\" ENTRYID:[1] \"1\" STATEMENT:[1] \"1\" USERID:[14] \"ZABBIX_MONITOR\" USERHOST:[31] \"vm-pr-infra-zabbix01.tcsbank.ru\" ACTION:[2] \"91\" RETURNCODE:[1] \"0\" COMMENT$TEXT:[138] \"Authenticated by: DATABASE;AUTHENTICATED IDENTITY: ZABBIX_MONITOR; Client address: (ADDRESS=(PROTOCOL=tcp)(HOST=10.217.12.96)(PORT=42594))\" OS$USERID:[7] \"548e9ad7-c293-4e7d-8c66-55cc907efa09\" DBID:[10] \"1033166545\" PRIV$USED:[1] \"5\" CURRENT_USER:[14] \"ZABBIX_MONITOR'"
      ]
     },
     "execution_count": 17,
     "metadata": {},
     "output_type": "execute_result"
    }
   ],
   "source": [
    "# генерируем строку\n",
    "generate_string()"
   ]
  },
  {
   "cell_type": "code",
   "execution_count": 18,
   "metadata": {},
   "outputs": [
    {
     "data": {
      "text/plain": [
       "'3c23683f-9b4c-49bf-8490-c6ee7d9b9020'"
      ]
     },
     "execution_count": 18,
     "metadata": {},
     "output_type": "execute_result"
    }
   ],
   "source": [
    "# достаем os_user_id\n",
    "get_os_user_id(generate_string())"
   ]
  },
  {
   "cell_type": "code",
   "execution_count": 20,
   "metadata": {},
   "outputs": [
    {
     "data": {
      "text/plain": [
       "'ZABBIX_MONITOR'"
      ]
     },
     "execution_count": 20,
     "metadata": {},
     "output_type": "execute_result"
    }
   ],
   "source": [
    "# достаем user_id\n",
    "get_user_id(generate_string())"
   ]
  },
  {
   "cell_type": "code",
   "execution_count": 22,
   "metadata": {},
   "outputs": [
    {
     "data": {
      "text/plain": [
       "'94'"
      ]
     },
     "execution_count": 22,
     "metadata": {},
     "output_type": "execute_result"
    }
   ],
   "source": [
    "# достаем событие\n",
    "log_event(generate_string())"
   ]
  },
  {
   "cell_type": "markdown",
   "metadata": {},
   "source": [
    "# Сам скрипт"
   ]
  },
  {
   "cell_type": "markdown",
   "metadata": {},
   "source": [
    "## 1. есть входной массив учетных записей -> вывести строку из логов где встречается эта учетка -> удалить из массива эту учетку"
   ]
  },
  {
   "cell_type": "code",
   "execution_count": 131,
   "metadata": {},
   "outputs": [],
   "source": [
    "file_name_result_chapter_one = \"result_chapter_one.txt\"\n",
    "file_errors_one = \"errors_one.txt\""
   ]
  },
  {
   "cell_type": "code",
   "execution_count": 132,
   "metadata": {},
   "outputs": [],
   "source": [
    "# создаем массив с учетками, которые нужно найти\n",
    "# ДОБАВИТЬ СЮДА ЧЕРЕЗ ЗАПЯТУЮ недостающие учетки\n",
    "user_ids = [\"ZABBIX_MONITOR\"]"
   ]
  },
  {
   "cell_type": "code",
   "execution_count": 133,
   "metadata": {},
   "outputs": [],
   "source": [
    "arr_line_logs_result:list = []\n",
    "arr_errors_one:list = []\n",
    "i = 0\n",
    "for file in os.listdir():\n",
    "    if \"log\" in file:\n",
    "        with open(file) as f:\n",
    "            while True:\n",
    "                next_n_lines = list(islice(f, n))\n",
    "                if not next_n_lines:\n",
    "                    break\n",
    "                else:\n",
    "                    # тут процессим наши строки\n",
    "                    for lines in next_n_lines:\n",
    "                        i = i + 1\n",
    "                        try:\n",
    "                            user_id = get_user_id(lines)\n",
    "                            # реализация бизнес логики\n",
    "                            if user_id in user_ids and len(user_ids) > 0:\n",
    "                                arr_line_logs_result.append(lines)\n",
    "                                user_ids.remove(user_id)\n",
    "                        except:\n",
    "                            arr_errors_one.append(lines)"
   ]
  },
  {
   "cell_type": "code",
   "execution_count": 135,
   "metadata": {},
   "outputs": [
    {
     "name": "stdout",
     "output_type": "stream",
     "text": [
      "успешно оббработанных строк:110000\n",
      "неуспешных:0\n"
     ]
    }
   ],
   "source": [
    "print(\"успешно оббработанных строк:{}\".format(i))\n",
    "print(\"неуспешных:{}\".format(len(arr_errors_one)))"
   ]
  },
  {
   "cell_type": "code",
   "execution_count": 120,
   "metadata": {},
   "outputs": [],
   "source": [
    "with open(file_name_result_chapter_one, \"w\") as f:\n",
    "    f.writelines(arr_line_logs_result)"
   ]
  },
  {
   "cell_type": "code",
   "execution_count": null,
   "metadata": {},
   "outputs": [],
   "source": [
    "with open(file_errors_one, \"w\") as f:\n",
    "    f.writelines(arr_errors_one)"
   ]
  },
  {
   "cell_type": "markdown",
   "metadata": {},
   "source": [
    "## 2. два условия дя поиска:  action 100 and одна из учеток в массиве"
   ]
  },
  {
   "cell_type": "code",
   "execution_count": 139,
   "metadata": {},
   "outputs": [],
   "source": [
    "file_name_result_chapter_two = \"result_chapter_two.txt\"\n",
    "file_errors_two = \"errors_two.txt\"\n",
    "user_ids = [\"ZABBIX_MONITOR\"]"
   ]
  },
  {
   "cell_type": "code",
   "execution_count": 142,
   "metadata": {},
   "outputs": [],
   "source": [
    "arr_os_user_id_cond:list = []\n",
    "arr_errors_two:list = []\n",
    "j = 0\n",
    "for file in os.listdir():\n",
    "    if \"log\" in file:\n",
    "        with open(file) as f:\n",
    "            # читаем чанками файлы чтобы не использовать много оперативной памяти\n",
    "            while True:\n",
    "                next_n_lines = list(islice(f, n))\n",
    "                if not next_n_lines:\n",
    "                    break\n",
    "                else:\n",
    "                    # тут процессим наши строки\n",
    "                    for lines in next_n_lines:\n",
    "                        j = j + 1\n",
    "                        try:\n",
    "                            if log_event(lines) == \"100\" and get_user_id(lines) in user_ids:\n",
    "                                # тут бизнес смысл\n",
    "                                arr_os_user_id_cond.append(\"файл:\" + file + \"|  \"+\"ид сессии:\"+ get_sension_id(lines) +\"|  \"+\"os_user_id:\"+ get_os_user_id(lines) + \"\\n\")\n",
    "                        except:\n",
    "                            arr_errors_two.append(lines)"
   ]
  },
  {
   "cell_type": "code",
   "execution_count": 143,
   "metadata": {},
   "outputs": [
    {
     "name": "stdout",
     "output_type": "stream",
     "text": [
      "успешно оббработанных строк:110000\n",
      "неуспешных:0\n"
     ]
    }
   ],
   "source": [
    "print(\"успешно оббработанных строк:{}\".format(j))\n",
    "print(\"неуспешных:{}\".format(len(arr_errors_two)))"
   ]
  },
  {
   "cell_type": "code",
   "execution_count": 144,
   "metadata": {},
   "outputs": [],
   "source": [
    "# пишем результат второй задачи"
   ]
  },
  {
   "cell_type": "code",
   "execution_count": 128,
   "metadata": {},
   "outputs": [],
   "source": [
    "with open(file_name_result_chapter_two, \"w\") as f:\n",
    "    f.writelines(arr_os_user_id_cond)"
   ]
  },
  {
   "cell_type": "code",
   "execution_count": null,
   "metadata": {},
   "outputs": [],
   "source": [
    "with open(file_errors_two, \"w\") as f:\n",
    "    f.writelines(arr_errors_two)"
   ]
  }
 ],
 "metadata": {
  "kernelspec": {
   "display_name": "Python 3",
   "language": "python",
   "name": "python3"
  },
  "language_info": {
   "codemirror_mode": {
    "name": "ipython",
    "version": 3
   },
   "file_extension": ".py",
   "mimetype": "text/x-python",
   "name": "python",
   "nbconvert_exporter": "python",
   "pygments_lexer": "ipython3",
   "version": "3.7.6"
  }
 },
 "nbformat": 4,
 "nbformat_minor": 4
}
